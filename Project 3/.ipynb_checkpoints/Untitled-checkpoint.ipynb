{
 "cells": [
  {
   "cell_type": "markdown",
   "metadata": {},
   "source": [
    "# Project 3:  Cars4U - Cameron Presley"
   ]
  },
  {
   "cell_type": "markdown",
   "metadata": {},
   "source": [
    "Background & Context\n",
    "\n",
    "There is a huge demand for used cars in the Indian Market today. As sales of new cars have slowed down in the recent past, the pre-owned car market has continued to grow over the past years and is larger than the new car market now. Cars4U is a budding tech start-up that aims to find footholes in this market.\n",
    "\n",
    "In 2018-19, while new car sales were recorded at 3.6 million units, around 4 million second-hand cars were bought and sold. There is a slowdown in new car sales and that could mean that the demand is shifting towards the pre-owned market. In fact, some car sellers replace their old cars with pre-owned cars instead of buying new ones. Unlike new cars, where price and supply are fairly deterministic and managed by OEMs (Original Equipment Manufacturer / except for dealership level discounts which come into play only in the last stage of the customer journey), used cars are very different beasts with huge uncertainty in both pricing and supply. Keeping this in mind, the pricing scheme of these used cars becomes important in order to grow in the market.\n",
    "\n",
    "As a senior data scientist at Cars4U, you have to come up with a pricing model that can effectively predict the price of used cars and can help the business in devising profitable strategies using differential pricing. For example, if the business knows the market price, it will never sell anything below it. \n",
    "\n",
    "Objective\n",
    "\n",
    " Explore and visualize the dataset.\n",
    " Build a linear regression model to predict the prices of used cars.\n",
    " Generate a set of insights and recommendations that will help the business.\n",
    "Data Dictionary \n",
    "\n",
    " S.No. : Serial Number\n",
    " \n",
    " Name : Name of the car which includes Brand name and Model name\n",
    " \n",
    " Location : The location in which the car is being sold or is available for purchase Cities\n",
    " \n",
    " Year : Manufacturing year of the car\n",
    " \n",
    " Kilometers_driven : The total kilometers driven in the car by the previous owner(s) in KM.\n",
    " \n",
    " Fuel_Type : The type of fuel used by the car. (Petrol, Diesel, Electric, CNG, LPG)\n",
    " \n",
    " Transmission : The type of transmission used by the car. (Automatic / Manual)\n",
    " \n",
    " Owner : Type of ownership\n",
    " \n",
    " Mileage : The standard mileage offered by the car company in kmpl or km/kg\n",
    " \n",
    " Engine : The displacement volume of the engine in CC.\n",
    " \n",
    " Power : The maximum power of the engine in bhp.\n",
    " \n",
    " Seats : The number of seats in the car.\n",
    " \n",
    " New_Price : The price of a new car of the same model in INR Lakhs.(1 Lakh = 100, 000)\n",
    " \n",
    " Price : The price of the used car in INR Lakhs (1 Lakh = 100, 000)"
   ]
  },
  {
   "cell_type": "code",
   "execution_count": null,
   "metadata": {},
   "outputs": [],
   "source": []
  }
 ],
 "metadata": {
  "kernelspec": {
   "display_name": "Python 3",
   "language": "python",
   "name": "python3"
  },
  "language_info": {
   "codemirror_mode": {
    "name": "ipython",
    "version": 3
   },
   "file_extension": ".py",
   "mimetype": "text/x-python",
   "name": "python",
   "nbconvert_exporter": "python",
   "pygments_lexer": "ipython3",
   "version": "3.8.5"
  }
 },
 "nbformat": 4,
 "nbformat_minor": 4
}
